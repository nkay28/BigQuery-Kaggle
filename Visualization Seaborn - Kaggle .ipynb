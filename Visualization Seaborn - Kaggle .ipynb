{
 "cells": [
  {
   "cell_type": "code",
   "execution_count": null,
   "id": "7489192e",
   "metadata": {},
   "outputs": [],
   "source": [
    "\n"
   ]
  },
  {
   "cell_type": "code",
   "execution_count": null,
   "id": "a722cf9f",
   "metadata": {},
   "outputs": [],
   "source": [
    "# \n"
   ]
  },
  {
   "cell_type": "markdown",
   "id": "3bd80419",
   "metadata": {},
   "source": [
    "Datasets - spotify songs, LA museums visitors, Us DOT Flight Delays 2015, synthetic insurance charges, iris flowers, breast cancer tumors images,  \n",
    "\n"
   ]
  },
  {
   "cell_type": "code",
   "execution_count": null,
   "id": "f7d9a397",
   "metadata": {},
   "outputs": [],
   "source": []
  },
  {
   "cell_type": "code",
   "execution_count": null,
   "id": "063c3010",
   "metadata": {},
   "outputs": [],
   "source": [
    "import pandas as pd\n",
    "pd.plotting.register_matplotlib_converters()\n",
    "import matplotlib.pyplot as plt\n",
    "%matplotlib inline\n",
    "import seaborn as sns\n",
    "\n",
    "\n",
    "\n",
    "# Set up code checking\n",
    "import os\n",
    "if not os.path.exists(\"../input/fifa.csv\"):\n",
    "    os.symlink(\"../input/data-for-datavis/fifa.csv\", \"../input/fifa.csv\")  \n",
    "from learntools.core import binder\n",
    "binder.bind(globals())\n",
    "#from learntools.data_viz_to_coder.ex1 import *\n",
    "print(\"Setup Complete\")\n"
   ]
  },
  {
   "cell_type": "code",
   "execution_count": null,
   "id": "9fc1c6da",
   "metadata": {},
   "outputs": [],
   "source": []
  },
  {
   "cell_type": "code",
   "execution_count": null,
   "id": "1b391885",
   "metadata": {},
   "outputs": [],
   "source": [
    "# Path of the file to read\n",
    "fifa_filepath = \"../input/fifa.csv\"\n",
    "\n",
    "# Read the file into a variable fifa_data\n",
    "fifa_data = pd.read_csv(fifa_filepath, index_col=\"Date\", parse_dates=True)\n"
   ]
  },
  {
   "cell_type": "code",
   "execution_count": null,
   "id": "c3687495",
   "metadata": {},
   "outputs": [],
   "source": [
    "fifa_data.head()\n",
    "\n",
    "fifa_data.tail()\n"
   ]
  },
  {
   "cell_type": "code",
   "execution_count": null,
   "id": "182ae8df",
   "metadata": {},
   "outputs": [],
   "source": [
    "\n",
    "## Linechart:\n",
    "#-----------\n"
   ]
  },
  {
   "cell_type": "code",
   "execution_count": null,
   "id": "c767c895",
   "metadata": {},
   "outputs": [],
   "source": [
    "# Set the width and height of the figure\n",
    "plt.figure(figsize=(14,6))\n",
    "\n",
    "# Add title\n",
    "plt.title(\"Daily Global Streams of Popular Songs in 2017-2018\")\n",
    "\n",
    "# Line chart showing daily global streams of each song \n",
    "sns.lineplot(data=spotify_data)\n",
    "\n"
   ]
  },
  {
   "cell_type": "code",
   "execution_count": null,
   "id": "f76331cb",
   "metadata": {},
   "outputs": [],
   "source": [
    "# Set the width and height of the figure\n",
    "plt.figure(figsize=(14,6))\n",
    "\n",
    "# Add title\n",
    "plt.title(\"Daily Global Streams of Popular Songs in 2017-2018\")\n",
    "\n",
    "# Line chart showing daily global streams of 'Shape of You'\n",
    "sns.lineplot(data=spotify_data['Shape of You'], label=\"Shape of You\")\n",
    "\n",
    "# Line chart showing daily global streams of 'Despacito'\n",
    "sns.lineplot(data=spotify_data['Despacito'], label=\"Despacito\")\n",
    "\n",
    "# Add label for horizontal axis\n",
    "plt.xlabel(\"Date\")\n",
    "\n"
   ]
  },
  {
   "cell_type": "code",
   "execution_count": null,
   "id": "fdf60217",
   "metadata": {},
   "outputs": [],
   "source": []
  },
  {
   "cell_type": "code",
   "execution_count": null,
   "id": "ec3f6336",
   "metadata": {},
   "outputs": [],
   "source": [
    "\n",
    "## Bar Charts and Heatmaps: \n",
    "#---------------------------\n"
   ]
  },
  {
   "cell_type": "code",
   "execution_count": null,
   "id": "62dac704",
   "metadata": {},
   "outputs": [],
   "source": [
    "\n",
    "#* always have to use this special notation to select the indexing column. Like <flight_data.index> and not flight_data['Month'].  \n"
   ]
  },
  {
   "cell_type": "code",
   "execution_count": null,
   "id": "beba667d",
   "metadata": {},
   "outputs": [],
   "source": [
    "\n",
    "\n"
   ]
  },
  {
   "cell_type": "code",
   "execution_count": null,
   "id": "866b2838",
   "metadata": {},
   "outputs": [],
   "source": []
  },
  {
   "cell_type": "code",
   "execution_count": null,
   "id": "13721cee",
   "metadata": {},
   "outputs": [],
   "source": [
    "# Set the width and height of the figure\n",
    "plt.figure(figsize=(14,7))\n",
    "\n",
    "# Add title\n",
    "plt.title(\"Average Arrival Delay for Each Airline, by Month\")\n",
    "\n",
    "# Heatmap showing average arrival delay for each airline by month\n",
    "sns.heatmap(data=flight_data, annot=True)\n",
    "\n",
    "# Add label for horizontal axis\n",
    "plt.xlabel(\"Airline\")\n",
    "\n",
    "\n",
    "\n",
    "REF: https://www.kaggle.com/code/alexisbcook/bar-charts-and-heatmaps?scriptVersionId=126573701&cellId=10 \n"
   ]
  },
  {
   "cell_type": "code",
   "execution_count": null,
   "id": "2027132f",
   "metadata": {},
   "outputs": [],
   "source": []
  },
  {
   "cell_type": "code",
   "execution_count": null,
   "id": "74fa1908",
   "metadata": {},
   "outputs": [],
   "source": [
    "\n",
    "## Scatter Plots\n",
    "#================\n"
   ]
  },
  {
   "cell_type": "code",
   "execution_count": null,
   "id": "fb00077c",
   "metadata": {},
   "outputs": [],
   "source": [
    "\n",
    "#* To double-check the strength of this relationship, you might like to add a regression line, or the line that best fits the data. \n",
    "    # Do this by changing the command to <sns.regplot> (from <sns.scatterplot>).\n",
    "\n",
    "#* Color-coded scatter plots: depict relation beween 3 variables.  \n",
    "#* use the <sns.lmplot> command to add two regression lines  \n",
    "\n",
    "\n",
    "REF: https://www.kaggle.com/code/alexisbcook/scatter-plots?scriptVersionId=126573698&cellId=11 \n",
    "        "
   ]
  },
  {
   "cell_type": "code",
   "execution_count": null,
   "id": "b648b588",
   "metadata": {},
   "outputs": [],
   "source": [
    "\n",
    "sns.scatterplot(x=insurance_data['bmi'], y=insurance_data['charges'])\n"
   ]
  },
  {
   "cell_type": "code",
   "execution_count": null,
   "id": "0b8fb5d3",
   "metadata": {},
   "outputs": [],
   "source": [
    "\n",
    "sns.regplot(x=insurance_data['bmi'], y=insurance_data['charges'])\n"
   ]
  },
  {
   "cell_type": "code",
   "execution_count": null,
   "id": "9839095e",
   "metadata": {},
   "outputs": [],
   "source": [
    "# colorcoded for 3 Vars:\n",
    "#-----------------------\n",
    "sns.scatterplot(x=insurance_data['bmi'], y=insurance_data['charges'], hue=insurance_data['smoker'])\n"
   ]
  },
  {
   "cell_type": "code",
   "execution_count": null,
   "id": "3809e6e2",
   "metadata": {},
   "outputs": [],
   "source": [
    "# add two regression lines: ** Syntax works a little different. \n",
    "sns.lmplot(x=\"bmi\", y=\"charges\", hue=\"smoker\", data=insurance_data)\n"
   ]
  },
  {
   "cell_type": "code",
   "execution_count": null,
   "id": "3e3be84d",
   "metadata": {},
   "outputs": [],
   "source": [
    "#* Categorical scatter plot: \n",
    "#---------------------------\n",
    "sns.swarmplot(x=insurance_data['smoker'],\n",
    "              y=insurance_data['charges'])\n",
    "\n",
    "\n",
    "REF: https://www.kaggle.com/code/alexisbcook/scatter-plots?scriptVersionId=126573698&cellId=16   \n",
    "        "
   ]
  },
  {
   "cell_type": "code",
   "execution_count": null,
   "id": "c8cd921f",
   "metadata": {},
   "outputs": [],
   "source": []
  },
  {
   "cell_type": "code",
   "execution_count": null,
   "id": "c3615a21",
   "metadata": {},
   "outputs": [],
   "source": [
    "\n",
    "## Distributions: histograms and density plots {kernel density estimate (KDE)}\n",
    "#----------------------------------------------\n"
   ]
  },
  {
   "cell_type": "code",
   "execution_count": null,
   "id": "3814a039",
   "metadata": {},
   "outputs": [],
   "source": [
    "\n",
    "# Histogram \n",
    "sns.histplot(iris_data['Petal Length (cm)'])\n"
   ]
  },
  {
   "cell_type": "code",
   "execution_count": 2,
   "id": "d33c21dc",
   "metadata": {},
   "outputs": [
    {
     "ename": "NameError",
     "evalue": "name 'sns' is not defined",
     "output_type": "error",
     "traceback": [
      "\u001b[1;31m---------------------------------------------------------------------------\u001b[0m",
      "\u001b[1;31mNameError\u001b[0m                                 Traceback (most recent call last)",
      "Cell \u001b[1;32mIn[2], line 4\u001b[0m\n\u001b[0;32m      1\u001b[0m \u001b[38;5;66;03m#* KDE plots - think of it as a smoothed histogram.\u001b[39;00m\n\u001b[0;32m      2\u001b[0m \n\u001b[0;32m      3\u001b[0m \u001b[38;5;66;03m# KDE plot \u001b[39;00m\n\u001b[1;32m----> 4\u001b[0m \u001b[43msns\u001b[49m\u001b[38;5;241m.\u001b[39mkdeplot(data\u001b[38;5;241m=\u001b[39miris_data[\u001b[38;5;124m'\u001b[39m\u001b[38;5;124mPetal Length (cm)\u001b[39m\u001b[38;5;124m'\u001b[39m], fill\u001b[38;5;241m=\u001b[39m\u001b[38;5;28;01mTrue\u001b[39;00m)\n",
      "\u001b[1;31mNameError\u001b[0m: name 'sns' is not defined"
     ]
    }
   ],
   "source": [
    "\n",
    "#* KDE plots - think of it as a smoothed histogram.\n",
    "\n",
    "# KDE plot \n",
    "sns.kdeplot(data=iris_data['Petal Length (cm)'], fill=True)\n",
    "\n",
    "\n"
   ]
  },
  {
   "cell_type": "code",
   "execution_count": null,
   "id": "e507b51a",
   "metadata": {},
   "outputs": [],
   "source": [
    "# 2D KDE plot\n",
    "#------------\n",
    "sns.jointplot(x=iris_data['Petal Length (cm)'], y=iris_data['Sepal Width (cm)'], kind=\"kde\")\n"
   ]
  },
  {
   "cell_type": "code",
   "execution_count": null,
   "id": "174cce11",
   "metadata": {},
   "outputs": [],
   "source": [
    "# Color-coded plots \n",
    "\n",
    "# Histograms for each species\n",
    "sns.histplot(data=iris_data, x='Petal Length (cm)', hue='Species')\n",
    "\n",
    "# Add title\n",
    "plt.title(\"Histogram of Petal Lengths, by Species\")\n",
    "\n"
   ]
  },
  {
   "cell_type": "code",
   "execution_count": null,
   "id": "263f90bf",
   "metadata": {},
   "outputs": [],
   "source": [
    "# KDE plots for each species\n",
    "sns.kdeplot(data=iris_data, x='Petal Length (cm)', hue='Species', shade=True)\n",
    "\n",
    "# Add title\n",
    "plt.title(\"Distribution of Petal Lengths, by Species\")\n"
   ]
  },
  {
   "cell_type": "code",
   "execution_count": null,
   "id": "16531886",
   "metadata": {},
   "outputs": [],
   "source": []
  },
  {
   "cell_type": "code",
   "execution_count": null,
   "id": "8f6f743c",
   "metadata": {},
   "outputs": [],
   "source": [
    "\n",
    "## Choosing Plot Types and Custom Styles: Changing styles with seaborn \n",
    "#--------------------------------------- \n"
   ]
  },
  {
   "cell_type": "code",
   "execution_count": null,
   "id": "7ffc1b50",
   "metadata": {},
   "outputs": [],
   "source": [
    "# change the style of the figure to a different theme \n",
    "\n",
    "sns.set_style(\"dark\")\n",
    "\n",
    "# Line chart \n",
    "plt.figure(figsize=(12,6))\n",
    "sns.lineplot(data=spotify_data)\n",
    "\n",
    "\n",
    "#* Seaborn has five different themes: (1)\"darkgrid\", (2)\"whitegrid\", (3)\"dark\", (4)\"white\", and (5)\"ticks\" \n",
    "\n"
   ]
  },
  {
   "cell_type": "code",
   "execution_count": null,
   "id": "3d608eba",
   "metadata": {},
   "outputs": [],
   "source": [
    "\n",
    "#* different file types on Kaggle Datasets: CSV files, JSON, SQLite, and BigQuery.\n",
    "\n",
    "\n"
   ]
  },
  {
   "cell_type": "code",
   "execution_count": null,
   "id": "10131914",
   "metadata": {},
   "outputs": [],
   "source": []
  },
  {
   "cell_type": "code",
   "execution_count": null,
   "id": "f1af1099",
   "metadata": {},
   "outputs": [],
   "source": []
  },
  {
   "cell_type": "code",
   "execution_count": null,
   "id": "c7f6adb3",
   "metadata": {},
   "outputs": [],
   "source": []
  },
  {
   "cell_type": "code",
   "execution_count": null,
   "id": "85c50dce",
   "metadata": {},
   "outputs": [],
   "source": []
  }
 ],
 "metadata": {
  "kernelspec": {
   "display_name": "Python 3 (ipykernel)",
   "language": "python",
   "name": "python3"
  },
  "language_info": {
   "codemirror_mode": {
    "name": "ipython",
    "version": 3
   },
   "file_extension": ".py",
   "mimetype": "text/x-python",
   "name": "python",
   "nbconvert_exporter": "python",
   "pygments_lexer": "ipython3",
   "version": "3.8.3"
  }
 },
 "nbformat": 4,
 "nbformat_minor": 5
}
